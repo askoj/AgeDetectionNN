{
 "cells": [
  {
   "cell_type": "code",
   "execution_count": 1,
   "metadata": {},
   "outputs": [],
   "source": [
    "import warnings\n",
    "warnings.filterwarnings(\"ignore\")\n",
    "\n",
    "import tensorflow as tf\n",
    "\n",
    "from tensorflow import keras\n",
    "from tensorflow.keras.models import Sequential\n",
    "from tensorflow.keras.layers import Dense, Dropout, Flatten, Conv2D, MaxPool2D\n",
    "from tensorflow.keras.optimizers import SGD\n",
    "import numpy as np\n",
    "import pandas as pd\n",
    "\n",
    "%matplotlib inline\n",
    "import matplotlib.pyplot as plt\n",
    "from matplotlib.pyplot import figure\n",
    "from matplotlib import pyplot\n",
    "import seaborn as sns\n",
    "sns.set()\n",
    "\n",
    "# Numerical Data Manipulation libraries\n",
    "import pandas as pd\n",
    "import numpy as np\n",
    "import statistics as stat\n",
    "\n",
    "\n",
    "# Naive Bayes libraries\n",
    "import sklearn\n",
    "from sklearn.naive_bayes import BernoulliNB      # Naive Bayes Classifier based on a Bernoulli Distribution\n",
    "from sklearn.naive_bayes import GaussianNB       # Naive Bayes Classifier based on a Gaussian Distribution\n",
    "from sklearn.naive_bayes import MultinomialNB    # Naive Bayes Classifier based on a Multinomial Distribution\n",
    "\n",
    "# Machine Learning libraries\n",
    "from sklearn.model_selection import train_test_split\n",
    "from sklearn import metrics\n",
    "from sklearn.metrics import accuracy_score\n",
    "from sklearn.metrics import confusion_matrix\n",
    "\n",
    "# Text Analysis libraries\n",
    "from sklearn.feature_extraction.text import TfidfVectorizer\n",
    "from sklearn.pipeline import make_pipeline\n",
    "import pandas as pd \n",
    "\n",
    "from PIL import Image\n",
    "import colorsys\n",
    "import math as mt\n",
    "import numpy as np\n",
    "import matplotlib.pyplot as plt\n",
    "from os import walk\n",
    "import os\n",
    "from skimage.transform import resize\n",
    "import warnings"
   ]
  },
  {
   "cell_type": "code",
   "execution_count": 2,
   "metadata": {},
   "outputs": [],
   "source": [
    "def generate_image_array(file_path):\n",
    "    im = Image.open(file_path)\n",
    "    width, height = im.size\n",
    "    pix = im.load()\n",
    "    image_0 = []\n",
    "    for x in [(x*round(width/64.0)) for x in range(0,64)]:\n",
    "        for y in [(y*round(height/64.0)) for y in range(0,64)]:\n",
    "            xx = x\n",
    "            yy = y\n",
    "            if (x >= width):\n",
    "                xx = width-1\n",
    "            if (y >= height):\n",
    "                yy = height-1\n",
    "            vals = [c/255.0 for c in pix[yy,xx]]\n",
    "            l = colorsys.rgb_to_hls(vals[0],vals[1],vals[2])[1]\n",
    "            image_0.append(l)\n",
    "    return image_0\n",
    "\n",
    "def show_image_from_image_array(image_array):\n",
    "    warnings.filterwarnings(\"ignore\")\n",
    "    image_0 = np.array(image_0)\n",
    "    image_0 = np.reshape(image_0, (64, 64))\n",
    "    image_0 = resize(image_0, (128, 128), anti_aliasing=True)\n",
    "    plt.imshow(image_array,  cmap=plt.cm.gray )\n"
   ]
  },
  {
   "cell_type": "code",
   "execution_count": 3,
   "metadata": {},
   "outputs": [
    {
     "data": {
      "text/html": [
       "<div>\n",
       "<style scoped>\n",
       "    .dataframe tbody tr th:only-of-type {\n",
       "        vertical-align: middle;\n",
       "    }\n",
       "\n",
       "    .dataframe tbody tr th {\n",
       "        vertical-align: top;\n",
       "    }\n",
       "\n",
       "    .dataframe thead th {\n",
       "        text-align: right;\n",
       "    }\n",
       "</style>\n",
       "<table border=\"1\" class=\"dataframe\">\n",
       "  <thead>\n",
       "    <tr style=\"text-align: right;\">\n",
       "      <th></th>\n",
       "      <th>pixel_0</th>\n",
       "      <th>pixel_1</th>\n",
       "      <th>pixel_2</th>\n",
       "      <th>pixel_3</th>\n",
       "      <th>pixel_4</th>\n",
       "      <th>pixel_5</th>\n",
       "      <th>pixel_6</th>\n",
       "      <th>pixel_7</th>\n",
       "      <th>pixel_8</th>\n",
       "      <th>pixel_9</th>\n",
       "      <th>...</th>\n",
       "      <th>pixel_4087</th>\n",
       "      <th>pixel_4088</th>\n",
       "      <th>pixel_4089</th>\n",
       "      <th>pixel_4090</th>\n",
       "      <th>pixel_4091</th>\n",
       "      <th>pixel_4092</th>\n",
       "      <th>pixel_4093</th>\n",
       "      <th>pixel_4094</th>\n",
       "      <th>pixel_4095</th>\n",
       "      <th>target</th>\n",
       "    </tr>\n",
       "  </thead>\n",
       "  <tbody>\n",
       "    <tr>\n",
       "      <th>0</th>\n",
       "      <td>50.0</td>\n",
       "      <td>56.0</td>\n",
       "      <td>70.0</td>\n",
       "      <td>71.0</td>\n",
       "      <td>80.0</td>\n",
       "      <td>74.0</td>\n",
       "      <td>90.0</td>\n",
       "      <td>90.0</td>\n",
       "      <td>80.0</td>\n",
       "      <td>80.0</td>\n",
       "      <td>...</td>\n",
       "      <td>254.0</td>\n",
       "      <td>245.0</td>\n",
       "      <td>182.0</td>\n",
       "      <td>197.0</td>\n",
       "      <td>244.0</td>\n",
       "      <td>249.0</td>\n",
       "      <td>253.0</td>\n",
       "      <td>249.0</td>\n",
       "      <td>248.0</td>\n",
       "      <td>0.0</td>\n",
       "    </tr>\n",
       "    <tr>\n",
       "      <th>1</th>\n",
       "      <td>65.0</td>\n",
       "      <td>77.0</td>\n",
       "      <td>109.0</td>\n",
       "      <td>116.0</td>\n",
       "      <td>146.0</td>\n",
       "      <td>148.0</td>\n",
       "      <td>90.0</td>\n",
       "      <td>82.0</td>\n",
       "      <td>48.0</td>\n",
       "      <td>56.0</td>\n",
       "      <td>...</td>\n",
       "      <td>68.0</td>\n",
       "      <td>72.0</td>\n",
       "      <td>78.0</td>\n",
       "      <td>80.0</td>\n",
       "      <td>80.0</td>\n",
       "      <td>77.0</td>\n",
       "      <td>77.0</td>\n",
       "      <td>84.0</td>\n",
       "      <td>95.0</td>\n",
       "      <td>0.0</td>\n",
       "    </tr>\n",
       "    <tr>\n",
       "      <th>2</th>\n",
       "      <td>242.0</td>\n",
       "      <td>242.0</td>\n",
       "      <td>242.0</td>\n",
       "      <td>242.0</td>\n",
       "      <td>243.0</td>\n",
       "      <td>249.0</td>\n",
       "      <td>169.0</td>\n",
       "      <td>92.0</td>\n",
       "      <td>154.0</td>\n",
       "      <td>173.0</td>\n",
       "      <td>...</td>\n",
       "      <td>214.0</td>\n",
       "      <td>214.0</td>\n",
       "      <td>204.0</td>\n",
       "      <td>209.0</td>\n",
       "      <td>191.0</td>\n",
       "      <td>182.0</td>\n",
       "      <td>192.0</td>\n",
       "      <td>204.0</td>\n",
       "      <td>208.0</td>\n",
       "      <td>0.0</td>\n",
       "    </tr>\n",
       "    <tr>\n",
       "      <th>3</th>\n",
       "      <td>36.0</td>\n",
       "      <td>44.0</td>\n",
       "      <td>60.0</td>\n",
       "      <td>72.0</td>\n",
       "      <td>80.0</td>\n",
       "      <td>81.0</td>\n",
       "      <td>82.0</td>\n",
       "      <td>83.0</td>\n",
       "      <td>82.0</td>\n",
       "      <td>80.0</td>\n",
       "      <td>...</td>\n",
       "      <td>252.0</td>\n",
       "      <td>250.0</td>\n",
       "      <td>254.0</td>\n",
       "      <td>252.0</td>\n",
       "      <td>253.0</td>\n",
       "      <td>253.0</td>\n",
       "      <td>254.0</td>\n",
       "      <td>253.0</td>\n",
       "      <td>253.0</td>\n",
       "      <td>0.0</td>\n",
       "    </tr>\n",
       "    <tr>\n",
       "      <th>4</th>\n",
       "      <td>57.0</td>\n",
       "      <td>88.0</td>\n",
       "      <td>82.0</td>\n",
       "      <td>66.0</td>\n",
       "      <td>36.0</td>\n",
       "      <td>46.0</td>\n",
       "      <td>52.0</td>\n",
       "      <td>50.0</td>\n",
       "      <td>48.0</td>\n",
       "      <td>47.0</td>\n",
       "      <td>...</td>\n",
       "      <td>247.0</td>\n",
       "      <td>248.0</td>\n",
       "      <td>248.0</td>\n",
       "      <td>248.0</td>\n",
       "      <td>248.0</td>\n",
       "      <td>248.0</td>\n",
       "      <td>248.0</td>\n",
       "      <td>248.0</td>\n",
       "      <td>248.0</td>\n",
       "      <td>0.0</td>\n",
       "    </tr>\n",
       "    <tr>\n",
       "      <th>...</th>\n",
       "      <td>...</td>\n",
       "      <td>...</td>\n",
       "      <td>...</td>\n",
       "      <td>...</td>\n",
       "      <td>...</td>\n",
       "      <td>...</td>\n",
       "      <td>...</td>\n",
       "      <td>...</td>\n",
       "      <td>...</td>\n",
       "      <td>...</td>\n",
       "      <td>...</td>\n",
       "      <td>...</td>\n",
       "      <td>...</td>\n",
       "      <td>...</td>\n",
       "      <td>...</td>\n",
       "      <td>...</td>\n",
       "      <td>...</td>\n",
       "      <td>...</td>\n",
       "      <td>...</td>\n",
       "      <td>...</td>\n",
       "      <td>...</td>\n",
       "    </tr>\n",
       "    <tr>\n",
       "      <th>206</th>\n",
       "      <td>62.0</td>\n",
       "      <td>47.0</td>\n",
       "      <td>57.0</td>\n",
       "      <td>58.0</td>\n",
       "      <td>63.0</td>\n",
       "      <td>54.0</td>\n",
       "      <td>51.0</td>\n",
       "      <td>50.0</td>\n",
       "      <td>52.0</td>\n",
       "      <td>54.0</td>\n",
       "      <td>...</td>\n",
       "      <td>56.0</td>\n",
       "      <td>54.0</td>\n",
       "      <td>16.0</td>\n",
       "      <td>8.0</td>\n",
       "      <td>39.0</td>\n",
       "      <td>70.0</td>\n",
       "      <td>30.0</td>\n",
       "      <td>2.0</td>\n",
       "      <td>38.0</td>\n",
       "      <td>1.0</td>\n",
       "    </tr>\n",
       "    <tr>\n",
       "      <th>207</th>\n",
       "      <td>81.0</td>\n",
       "      <td>80.0</td>\n",
       "      <td>68.0</td>\n",
       "      <td>66.0</td>\n",
       "      <td>38.0</td>\n",
       "      <td>20.0</td>\n",
       "      <td>22.0</td>\n",
       "      <td>24.0</td>\n",
       "      <td>24.0</td>\n",
       "      <td>14.0</td>\n",
       "      <td>...</td>\n",
       "      <td>28.0</td>\n",
       "      <td>14.0</td>\n",
       "      <td>20.0</td>\n",
       "      <td>28.0</td>\n",
       "      <td>128.0</td>\n",
       "      <td>142.0</td>\n",
       "      <td>66.0</td>\n",
       "      <td>57.0</td>\n",
       "      <td>98.0</td>\n",
       "      <td>1.0</td>\n",
       "    </tr>\n",
       "    <tr>\n",
       "      <th>208</th>\n",
       "      <td>47.0</td>\n",
       "      <td>51.0</td>\n",
       "      <td>44.0</td>\n",
       "      <td>45.0</td>\n",
       "      <td>51.0</td>\n",
       "      <td>63.0</td>\n",
       "      <td>78.0</td>\n",
       "      <td>88.0</td>\n",
       "      <td>98.0</td>\n",
       "      <td>110.0</td>\n",
       "      <td>...</td>\n",
       "      <td>74.0</td>\n",
       "      <td>52.0</td>\n",
       "      <td>38.0</td>\n",
       "      <td>63.0</td>\n",
       "      <td>89.0</td>\n",
       "      <td>110.0</td>\n",
       "      <td>166.0</td>\n",
       "      <td>188.0</td>\n",
       "      <td>188.0</td>\n",
       "      <td>1.0</td>\n",
       "    </tr>\n",
       "    <tr>\n",
       "      <th>209</th>\n",
       "      <td>53.0</td>\n",
       "      <td>64.0</td>\n",
       "      <td>59.0</td>\n",
       "      <td>36.0</td>\n",
       "      <td>28.0</td>\n",
       "      <td>54.0</td>\n",
       "      <td>83.0</td>\n",
       "      <td>111.0</td>\n",
       "      <td>136.0</td>\n",
       "      <td>142.0</td>\n",
       "      <td>...</td>\n",
       "      <td>30.0</td>\n",
       "      <td>29.0</td>\n",
       "      <td>41.0</td>\n",
       "      <td>58.0</td>\n",
       "      <td>76.0</td>\n",
       "      <td>70.0</td>\n",
       "      <td>59.0</td>\n",
       "      <td>55.0</td>\n",
       "      <td>43.0</td>\n",
       "      <td>1.0</td>\n",
       "    </tr>\n",
       "    <tr>\n",
       "      <th>210</th>\n",
       "      <td>104.0</td>\n",
       "      <td>123.0</td>\n",
       "      <td>140.0</td>\n",
       "      <td>148.0</td>\n",
       "      <td>157.0</td>\n",
       "      <td>161.0</td>\n",
       "      <td>164.0</td>\n",
       "      <td>168.0</td>\n",
       "      <td>170.0</td>\n",
       "      <td>172.0</td>\n",
       "      <td>...</td>\n",
       "      <td>46.0</td>\n",
       "      <td>49.0</td>\n",
       "      <td>73.0</td>\n",
       "      <td>80.0</td>\n",
       "      <td>74.0</td>\n",
       "      <td>58.0</td>\n",
       "      <td>75.0</td>\n",
       "      <td>49.0</td>\n",
       "      <td>86.0</td>\n",
       "      <td>1.0</td>\n",
       "    </tr>\n",
       "  </tbody>\n",
       "</table>\n",
       "<p>211 rows × 4097 columns</p>\n",
       "</div>"
      ],
      "text/plain": [
       "     pixel_0  pixel_1  pixel_2  pixel_3  pixel_4  pixel_5  pixel_6  pixel_7  \\\n",
       "0       50.0     56.0     70.0     71.0     80.0     74.0     90.0     90.0   \n",
       "1       65.0     77.0    109.0    116.0    146.0    148.0     90.0     82.0   \n",
       "2      242.0    242.0    242.0    242.0    243.0    249.0    169.0     92.0   \n",
       "3       36.0     44.0     60.0     72.0     80.0     81.0     82.0     83.0   \n",
       "4       57.0     88.0     82.0     66.0     36.0     46.0     52.0     50.0   \n",
       "..       ...      ...      ...      ...      ...      ...      ...      ...   \n",
       "206     62.0     47.0     57.0     58.0     63.0     54.0     51.0     50.0   \n",
       "207     81.0     80.0     68.0     66.0     38.0     20.0     22.0     24.0   \n",
       "208     47.0     51.0     44.0     45.0     51.0     63.0     78.0     88.0   \n",
       "209     53.0     64.0     59.0     36.0     28.0     54.0     83.0    111.0   \n",
       "210    104.0    123.0    140.0    148.0    157.0    161.0    164.0    168.0   \n",
       "\n",
       "     pixel_8  pixel_9  ...  pixel_4087  pixel_4088  pixel_4089  pixel_4090  \\\n",
       "0       80.0     80.0  ...       254.0       245.0       182.0       197.0   \n",
       "1       48.0     56.0  ...        68.0        72.0        78.0        80.0   \n",
       "2      154.0    173.0  ...       214.0       214.0       204.0       209.0   \n",
       "3       82.0     80.0  ...       252.0       250.0       254.0       252.0   \n",
       "4       48.0     47.0  ...       247.0       248.0       248.0       248.0   \n",
       "..       ...      ...  ...         ...         ...         ...         ...   \n",
       "206     52.0     54.0  ...        56.0        54.0        16.0         8.0   \n",
       "207     24.0     14.0  ...        28.0        14.0        20.0        28.0   \n",
       "208     98.0    110.0  ...        74.0        52.0        38.0        63.0   \n",
       "209    136.0    142.0  ...        30.0        29.0        41.0        58.0   \n",
       "210    170.0    172.0  ...        46.0        49.0        73.0        80.0   \n",
       "\n",
       "     pixel_4091  pixel_4092  pixel_4093  pixel_4094  pixel_4095  target  \n",
       "0         244.0       249.0       253.0       249.0       248.0     0.0  \n",
       "1          80.0        77.0        77.0        84.0        95.0     0.0  \n",
       "2         191.0       182.0       192.0       204.0       208.0     0.0  \n",
       "3         253.0       253.0       254.0       253.0       253.0     0.0  \n",
       "4         248.0       248.0       248.0       248.0       248.0     0.0  \n",
       "..          ...         ...         ...         ...         ...     ...  \n",
       "206        39.0        70.0        30.0         2.0        38.0     1.0  \n",
       "207       128.0       142.0        66.0        57.0        98.0     1.0  \n",
       "208        89.0       110.0       166.0       188.0       188.0     1.0  \n",
       "209        76.0        70.0        59.0        55.0        43.0     1.0  \n",
       "210        74.0        58.0        75.0        49.0        86.0     1.0  \n",
       "\n",
       "[211 rows x 4097 columns]"
      ]
     },
     "execution_count": 3,
     "metadata": {},
     "output_type": "execute_result"
    }
   ],
   "source": [
    "\n",
    "HOME_PATH = \"/home/jovyan\"\n",
    "\n",
    "# Function for getting the images\n",
    "def get_images_from_directory(IMAGES_INNOCENT_PATH):\n",
    "    f = []\n",
    "    for (dirpath, dirnames, filenames) in walk( HOME_PATH + IMAGES_INNOCENT_PATH ):\n",
    "        f.extend(filenames)\n",
    "        break\n",
    "    f = [HOME_PATH+IMAGES_INNOCENT_PATH+ff for ff in f]\n",
    "    return f\n",
    "\n",
    "base_df_dict = {}\n",
    "for i in range(0, 4096):\n",
    "    base_df_dict.update({ \"pixel_\"+str(i) : [] })\n",
    "base_df_dict.update({ \"target\" : [] })\n",
    "base_df = pd.DataFrame(base_df_dict)\n",
    "\n",
    "\n",
    "def populate_dataset(base_df, path, target_type):\n",
    "    for each_image in get_images_from_directory(path):\n",
    "        this_image = [round(x*255) for x in generate_image_array(each_image)]\n",
    "        image_dictionary = {}\n",
    "        for i in range(0, len(this_image)):\n",
    "            image_dictionary.update({\"pixel_\"+str(i) : [this_image[i]]})\n",
    "        image_dictionary.update({\"target\" : [target_type]})\n",
    "        add_df = pd.DataFrame(image_dictionary)\n",
    "        base_df = base_df.append(add_df, ignore_index = True)\n",
    "    return base_df\n",
    "\n",
    "base_df = populate_dataset(base_df, \"/29Apr/data/banner/young/\", 0)\n",
    "base_df = populate_dataset(base_df, \"/29Apr/data/banner/old/\", 1)\n",
    "base_df"
   ]
  },
  {
   "cell_type": "code",
   "execution_count": 4,
   "metadata": {},
   "outputs": [],
   "source": [
    "def predict( model, image, print_img ):\n",
    "    \n",
    "    if( print_img ):\n",
    "        plt.grid(b=None)\n",
    "        plt.imshow(image)\n",
    "    \n",
    "    n_image = np.expand_dims(image, axis=0)\n",
    "    n_image = np.expand_dims(n_image, axis=3)\n",
    "    \n",
    "    prediction = model.predict( n_image )[0]\n",
    "    \n",
    "    if( prediction >= 0.5 ):\n",
    "        if( print_img ):\n",
    "            print('Model Prediction: OLD with probability = %.2f' % prediction)\n",
    "        result = 1\n",
    "    else:\n",
    "        if( print_img ):\n",
    "            print('Model Prediction: NOT OLD with probability = %.2f' % prediction)\n",
    "        result = 0\n",
    "        \n",
    "    return result\n",
    "\n",
    "def check_image_dataset( dataset, class_var ):\n",
    "    \n",
    "    last_pixels = dataset[[\"pixel_4092\", \"pixel_4093\", \"pixel_4094\", \"pixel_4095\", class_var]]\n",
    "    return last_pixels\n",
    "    "
   ]
  },
  {
   "cell_type": "code",
   "execution_count": 5,
   "metadata": {},
   "outputs": [],
   "source": [
    "faces_dataset = base_df"
   ]
  },
  {
   "cell_type": "code",
   "execution_count": 6,
   "metadata": {},
   "outputs": [
    {
     "name": "stdout",
     "output_type": "stream",
     "text": [
      "Total number of images in the dataset is: 211\n",
      "Total number of pixels per image is: 4096\n"
     ]
    }
   ],
   "source": [
    "# total number of images in dataset:\n",
    "num_images = len(faces_dataset)\n",
    "num_pixels = len(faces_dataset.columns) - 1\n",
    "\n",
    "print('Total number of images in the dataset is: ' + str(num_images))\n",
    "print('Total number of pixels per image is: ' + str(num_pixels))"
   ]
  },
  {
   "cell_type": "code",
   "execution_count": 7,
   "metadata": {},
   "outputs": [
    {
     "name": "stdout",
     "output_type": "stream",
     "text": [
      "Criminality distribution:\n",
      "Number of criminals: 82\n",
      "Number of not criminals: 129\n"
     ]
    }
   ],
   "source": [
    "# We can also try to understand what is the distribution of criminals / not crimials in our dataset:\n",
    "criminals = faces_dataset[ faces_dataset['target'] == 1 ]\n",
    "not_criminals = faces_dataset[ faces_dataset['target'] == 0 ]\n",
    "\n",
    "print('Criminality distribution:')\n",
    "print('Number of criminals: ' + str(len(criminals)))\n",
    "print('Number of not criminals: ' + str(len(not_criminals)))"
   ]
  },
  {
   "cell_type": "code",
   "execution_count": 8,
   "metadata": {},
   "outputs": [
    {
     "name": "stdout",
     "output_type": "stream",
     "text": [
      "Image label = NOT OLD\n"
     ]
    },
    {
     "data": {
      "image/png": "[encoded data removed]",
      "text/plain": [
       "<Figure size 432x288 with 1 Axes>"
      ]
     },
     "metadata": {},
     "output_type": "display_data"
    }
   ],
   "source": [
    "# getting some images... \n",
    "from skimage.transform import resize\n",
    "import warnings\n",
    "warnings.filterwarnings(\"ignore\")\n",
    "\n",
    "indx = 120\n",
    "image_0 = faces_dataset.iloc[indx,0:num_pixels]\n",
    "\n",
    "# image_0 is a vector with 9216 pixels. In order to convert it into an image,\n",
    "# we need to reshape this vector into a matrix of 96*96 = 9216 pixels\n",
    "\n",
    "image_0 =  np.array(image_0)\n",
    "image_0 = np.reshape(image_0, (64, 64))\n",
    "image_0 = resize(image_0, (128, 128), anti_aliasing=True)\n",
    "\n",
    "# show image\n",
    "plt.imshow(image_0,  cmap=plt.cm.gray )\n",
    "\n",
    "# print target\n",
    "if( faces_dataset.iloc[indx,num_pixels] == 1):\n",
    "    print('Image label = OLD')\n",
    "else:\n",
    "    print('Image label = NOT OLD')"
   ]
  },
  {
   "cell_type": "code",
   "execution_count": 9,
   "metadata": {},
   "outputs": [],
   "source": [
    "all_images = []\n",
    "\n",
    "WIDTH = 64\n",
    "HEIGHT = 64\n",
    "\n",
    "data = faces_dataset.iloc[:,0:num_pixels]\n",
    "for indx in range(0, len(data)):\n",
    "    \n",
    "    image = np.array(data.iloc[indx,0:num_pixels])\n",
    "    # normalise pixels\n",
    "    temp = np.reshape(image, (WIDTH, HEIGHT))/255.0\n",
    "    all_images.append(temp)\n",
    "\n",
    "# convert structure to array\n",
    "all_images = np.array(all_images)\n"
   ]
  },
  {
   "cell_type": "code",
   "execution_count": 10,
   "metadata": {},
   "outputs": [],
   "source": [
    "# separate your dataset: \n",
    "# put the variable that you wish to classify (the target) in one variable\n",
    "# put your features (the pixels) in another variable\n",
    "X=np.zeros((num_images,WIDTH,HEIGHT,1))\n",
    "X[:,:,:,0]=all_images\n",
    "y = faces_dataset.iloc[:,num_pixels]"
   ]
  },
  {
   "cell_type": "code",
   "execution_count": 11,
   "metadata": {},
   "outputs": [],
   "source": [
    "# separate the dataset into test set and train set\n",
    "X_train, X_test, y_train, y_test = train_test_split( X, y, test_size = 0.3 )"
   ]
  },
  {
   "cell_type": "code",
   "execution_count": 12,
   "metadata": {},
   "outputs": [],
   "source": [
    "# define model\n",
    "model_deep = Sequential()\n",
    "\n",
    "# add layers\n",
    "model_deep.add(Conv2D(64, (3, 3), padding = 'same', activation='relu', input_shape=(WIDTH, HEIGHT, 1)))\n",
    "model_deep.add(MaxPool2D(pool_size=(2, 2)))\n",
    "model_deep.add(Dropout(0.25))\n",
    "\n",
    "model_deep.add(Conv2D(32, (3, 3), padding = 'same', activation='relu', input_shape=(WIDTH, HEIGHT, 1)))\n",
    "model_deep.add(MaxPool2D(pool_size=(2, 2)))\n",
    "model_deep.add(Dropout(0.25))\n",
    "model_deep.add(Flatten())\n",
    "\n",
    "model_deep.add(Dense(256, activation='tanh'))\n",
    "\n",
    "model_deep.add(Dense(1, activation='sigmoid'))"
   ]
  },
  {
   "cell_type": "code",
   "execution_count": 13,
   "metadata": {},
   "outputs": [
    {
     "name": "stdout",
     "output_type": "stream",
     "text": [
      "Model: \"sequential\"\n",
      "_________________________________________________________________\n",
      "Layer (type)                 Output Shape              Param #   \n",
      "=================================================================\n",
      "conv2d (Conv2D)              (None, 64, 64, 64)        640       \n",
      "_________________________________________________________________\n",
      "max_pooling2d (MaxPooling2D) (None, 32, 32, 64)        0         \n",
      "_________________________________________________________________\n",
      "dropout (Dropout)            (None, 32, 32, 64)        0         \n",
      "_________________________________________________________________\n",
      "conv2d_1 (Conv2D)            (None, 32, 32, 32)        18464     \n",
      "_________________________________________________________________\n",
      "max_pooling2d_1 (MaxPooling2 (None, 16, 16, 32)        0         \n",
      "_________________________________________________________________\n",
      "dropout_1 (Dropout)          (None, 16, 16, 32)        0         \n",
      "_________________________________________________________________\n",
      "flatten (Flatten)            (None, 8192)              0         \n",
      "_________________________________________________________________\n",
      "dense (Dense)                (None, 256)               2097408   \n",
      "_________________________________________________________________\n",
      "dense_1 (Dense)              (None, 1)                 257       \n",
      "=================================================================\n",
      "Total params: 2,116,769\n",
      "Trainable params: 2,116,769\n",
      "Non-trainable params: 0\n",
      "_________________________________________________________________\n"
     ]
    }
   ],
   "source": [
    "# visualise the model\n",
    "model_deep.summary()"
   ]
  },
  {
   "cell_type": "code",
   "execution_count": 14,
   "metadata": {},
   "outputs": [
    {
     "data": {
      "text/plain": [
       "<matplotlib.image.AxesImage at 0x7fb0ec1d4d50>"
      ]
     },
     "execution_count": 14,
     "metadata": {},
     "output_type": "execute_result"
    },
    {
     "data": {
      "image/png": "[encoded data removed]",
      "text/plain": [
       "<Figure size 720x1080 with 1 Axes>"
      ]
     },
     "metadata": {},
     "output_type": "display_data"
    }
   ],
   "source": [
    "# another way of visualising the network\n",
    "\n",
    "from tensorflow.keras.utils import plot_model\n",
    "import matplotlib.image as mpimg\n",
    "\n",
    "plot_model(model_deep, \"model_dnn.png\", show_shapes=True, show_layer_names=False, rankdir='TB', dpi=150)\n",
    "img = mpimg.imread(\"model_dnn.png\")\n",
    "plt.figure(figsize=(10,15))\n",
    "plt.axis('off');\n",
    "plt.imshow(img)\n"
   ]
  },
  {
   "cell_type": "code",
   "execution_count": 15,
   "metadata": {},
   "outputs": [],
   "source": [
    "# compile model\n",
    "# SGD = Stochastic Gradient Descent\n",
    "sgd = SGD(lr=0.1, decay=1e-6, momentum=0.9, nesterov=True)\n",
    "model_deep.compile(loss='mean_squared_error', optimizer='adam', metrics=['accuracy'])"
   ]
  },
  {
   "cell_type": "code",
   "execution_count": 16,
   "metadata": {},
   "outputs": [
    {
     "name": "stdout",
     "output_type": "stream",
     "text": [
      "Train on 147 samples, validate on 64 samples\n",
      "Epoch 1/10\n",
      "147/147 [==============================] - 2s 10ms/sample - loss: 0.2416 - accuracy: 0.6599 - val_loss: 0.1765 - val_accuracy: 0.7188\n",
      "Epoch 2/10\n",
      "147/147 [==============================] - 1s 8ms/sample - loss: 0.1610 - accuracy: 0.7755 - val_loss: 0.1765 - val_accuracy: 0.8281\n",
      "Epoch 3/10\n",
      "147/147 [==============================] - 1s 7ms/sample - loss: 0.1721 - accuracy: 0.7415 - val_loss: 0.1650 - val_accuracy: 0.7656\n",
      "Epoch 4/10\n",
      "147/147 [==============================] - 1s 7ms/sample - loss: 0.1323 - accuracy: 0.8367 - val_loss: 0.1278 - val_accuracy: 0.8906\n",
      "Epoch 5/10\n",
      "147/147 [==============================] - 1s 7ms/sample - loss: 0.1278 - accuracy: 0.8435 - val_loss: 0.1188 - val_accuracy: 0.8125\n",
      "Epoch 6/10\n",
      "147/147 [==============================] - 1s 7ms/sample - loss: 0.1051 - accuracy: 0.8707 - val_loss: 0.1004 - val_accuracy: 0.8750\n",
      "Epoch 7/10\n",
      "147/147 [==============================] - 1s 8ms/sample - loss: 0.0853 - accuracy: 0.8980 - val_loss: 0.0737 - val_accuracy: 0.9531\n",
      "Epoch 8/10\n",
      "147/147 [==============================] - 1s 8ms/sample - loss: 0.0726 - accuracy: 0.9116 - val_loss: 0.0722 - val_accuracy: 0.9062\n",
      "Epoch 9/10\n",
      "147/147 [==============================] - 1s 7ms/sample - loss: 0.0734 - accuracy: 0.9048 - val_loss: 0.0774 - val_accuracy: 0.8906\n",
      "Epoch 10/10\n",
      "147/147 [==============================] - 1s 7ms/sample - loss: 0.0456 - accuracy: 0.9456 - val_loss: 0.0505 - val_accuracy: 0.9531\n"
     ]
    }
   ],
   "source": [
    "# fit model\n",
    "sgd = SGD(lr=0.1, decay=1e-6, momentum=0.9, nesterov=True)\n",
    "history_deep = model_deep.fit(X_train, y_train, validation_data=(X_test, y_test), epochs=10, verbose=1)"
   ]
  },
  {
   "cell_type": "code",
   "execution_count": 17,
   "metadata": {},
   "outputs": [
    {
     "name": "stdout",
     "output_type": "stream",
     "text": [
      "Train: 0.973, Test: 0.953\n"
     ]
    }
   ],
   "source": [
    "# evaluate the model\n",
    "_, train_acc_deep = model_deep.evaluate(X_train, y_train, verbose=0)\n",
    "_, test_acc_deep = model_deep.evaluate(X_test, y_test, verbose=0)\n",
    "print('Train: %.3f, Test: %.3f' % (train_acc_deep, test_acc_deep))"
   ]
  },
  {
   "cell_type": "code",
   "execution_count": 18,
   "metadata": {},
   "outputs": [
    {
     "data": {
      "image/png": "[encoded data removed]",
      "text/plain": [
       "<Figure size 432x288 with 1 Axes>"
      ]
     },
     "metadata": {},
     "output_type": "display_data"
    }
   ],
   "source": [
    "# plot training history\n",
    "pyplot.plot(history_deep.history['accuracy'], label='train')\n",
    "pyplot.plot(history_deep.history['val_accuracy'], label='test')\n",
    "pyplot.ylabel('accuracy', fontsize=12)\n",
    "pyplot.xlabel('iterations', fontsize=12)\n",
    "pyplot.legend()\n",
    "pyplot.show()"
   ]
  },
  {
   "cell_type": "code",
   "execution_count": 19,
   "metadata": {},
   "outputs": [
    {
     "name": "stdout",
     "output_type": "stream",
     "text": [
      "Model Prediction: NOT OLD with probability = 0.06\n"
     ]
    },
    {
     "data": {
      "text/plain": [
       "0"
      ]
     },
     "execution_count": 19,
     "metadata": {},
     "output_type": "execute_result"
    },
    {
     "data": {
      "image/png": "[encoded data removed]",
      "text/plain": [
       "<Figure size 432x288 with 1 Axes>"
      ]
     },
     "metadata": {},
     "output_type": "display_data"
    }
   ],
   "source": [
    "indx = 0\n",
    "image = all_images[indx,:,:]\n",
    "predict( model_deep, image, True )"
   ]
  },
  {
   "cell_type": "code",
   "execution_count": 23,
   "metadata": {},
   "outputs": [
    {
     "name": "stdout",
     "output_type": "stream",
     "text": [
      "Model Prediction: NOT OLD with probability = 0.10\n"
     ]
    },
    {
     "data": {
      "text/plain": [
       "0"
      ]
     },
     "execution_count": 23,
     "metadata": {},
     "output_type": "execute_result"
    },
    {
     "data": {
      "image/png": "[encoded data removed]",
      "text/plain": [
       "<Figure size 432x288 with 1 Axes>"
      ]
     },
     "metadata": {},
     "output_type": "display_data"
    }
   ],
   "source": [
    "indx = 32\n",
    "image = all_images[indx,:,:]\n",
    "predict( model_deep, image, True )"
   ]
  },
  {
   "cell_type": "code",
   "execution_count": 21,
   "metadata": {},
   "outputs": [],
   "source": [
    "from sklearn.metrics import classification_report\n",
    "\n",
    "results = []\n",
    "for indx in range(0, len(X_test)):\n",
    "    \n",
    "    image = X_test[indx,:,:,0]\n",
    "    r = predict( model_deep, image, False )\n",
    "    results.append(r)"
   ]
  },
  {
   "cell_type": "code",
   "execution_count": 22,
   "metadata": {},
   "outputs": [
    {
     "name": "stdout",
     "output_type": "stream",
     "text": [
      "              precision    recall  f1-score   support\n",
      "\n",
      "     NOT OLD       0.88      0.98      0.92        44\n",
      "         OLD       0.93      0.70      0.80        20\n",
      "\n",
      "    accuracy                           0.89        64\n",
      "   macro avg       0.91      0.84      0.86        64\n",
      "weighted avg       0.89      0.89      0.89        64\n",
      "\n"
     ]
    }
   ],
   "source": [
    "names=['NOT OLD', 'OLD']\n",
    "print(classification_report(y_test.values, results, target_names=names))"
   ]
  },
  {
   "cell_type": "code",
   "execution_count": 23,
   "metadata": {},
   "outputs": [
    {
     "data": {
      "image/png": "[encoded data removed]",
      "text/plain": [
       "<Figure size 432x288 with 2 Axes>"
      ]
     },
     "metadata": {},
     "output_type": "display_data"
    }
   ],
   "source": [
    "from sklearn.metrics import confusion_matrix\n",
    "\n",
    "mat = confusion_matrix(y_test, results)\n",
    "sns.heatmap(mat.T, square=True, fmt='d', cbar=True, xticklabels=names, \\\n",
    "            yticklabels=names, annot=True)\n",
    "plt.xlabel('true label')\n",
    "plt.ylabel('predicted label');"
   ]
  },
  {
   "cell_type": "code",
   "execution_count": null,
   "metadata": {},
   "outputs": [],
   "source": []
  }
 ],
 "metadata": {
  "kernelspec": {
   "display_name": "Python 3",
   "language": "python",
   "name": "python3"
  },
  "language_info": {
   "codemirror_mode": {
    "name": "ipython",
    "version": 3
   },
   "file_extension": ".py",
   "mimetype": "text/x-python",
   "name": "python",
   "nbconvert_exporter": "python",
   "pygments_lexer": "ipython3",
   "version": "3.7.6"
  }
 },
 "nbformat": 4,
 "nbformat_minor": 4
}
